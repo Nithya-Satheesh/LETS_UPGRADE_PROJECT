{
  "nbformat": 4,
  "nbformat_minor": 0,
  "metadata": {
    "colab": {
      "name": "PROJECT.ipynb",
      "provenance": [],
      "collapsed_sections": [],
      "authorship_tag": "ABX9TyNmdiiUh12Kz9zWwJWpmMsw",
      "include_colab_link": true
    },
    "kernelspec": {
      "name": "python3",
      "display_name": "Python 3"
    }
  },
  "cells": [
    {
      "cell_type": "markdown",
      "metadata": {
        "id": "view-in-github",
        "colab_type": "text"
      },
      "source": [
        "<a href=\"https://colab.research.google.com/github/Nithya-Satheesh/LETS_UPGRADE_PROJECT/blob/main/PROJECT.ipynb\" target=\"_parent\"><img src=\"https://colab.research.google.com/assets/colab-badge.svg\" alt=\"Open In Colab\"/></a>"
      ]
    },
    {
      "cell_type": "code",
      "metadata": {
        "id": "FXMd1WGXaG05",
        "outputId": "9607ad46-b4fb-49ea-db93-deb25016f18b",
        "colab": {
          "resources": {
            "http://localhost:8080/nbextensions/google.colab/files.js": {
              "data": "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",
              "ok": true,
              "headers": [
                [
                  "content-type",
                  "application/javascript"
                ]
              ],
              "status": 200,
              "status_text": ""
            }
          },
          "base_uri": "https://localhost:8080/",
          "height": 73
        }
      },
      "source": [
        "from google.colab import files\n",
        "uploaded = files.upload()\n"
      ],
      "execution_count": 4,
      "outputs": [
        {
          "output_type": "display_data",
          "data": {
            "text/html": [
              "\n",
              "     <input type=\"file\" id=\"files-3d50a0f1-0724-424d-a80c-31bfa61ba932\" name=\"files[]\" multiple disabled\n",
              "        style=\"border:none\" />\n",
              "     <output id=\"result-3d50a0f1-0724-424d-a80c-31bfa61ba932\">\n",
              "      Upload widget is only available when the cell has been executed in the\n",
              "      current browser session. Please rerun this cell to enable.\n",
              "      </output>\n",
              "      <script src=\"/nbextensions/google.colab/files.js\"></script> "
            ],
            "text/plain": [
              "<IPython.core.display.HTML object>"
            ]
          },
          "metadata": {
            "tags": []
          }
        },
        {
          "output_type": "stream",
          "text": [
            "Saving pubg.csv to pubg.csv\n"
          ],
          "name": "stdout"
        }
      ]
    },
    {
      "cell_type": "markdown",
      "metadata": {
        "id": "d1QSsqoPagZb"
      },
      "source": [
        "**1. Read the dataset.**"
      ]
    },
    {
      "cell_type": "code",
      "metadata": {
        "id": "PRRN_V3dagqj",
        "outputId": "c288b247-8696-4d84-c737-bfb1db56d0c5",
        "colab": {
          "base_uri": "https://localhost:8080/",
          "height": 422
        }
      },
      "source": [
        "import pandas as pd\n",
        "df = pd.read_csv(\"pubg.csv\")\n",
        "df"
      ],
      "execution_count": 5,
      "outputs": [
        {
          "output_type": "execute_result",
          "data": {
            "text/html": [
              "<div>\n",
              "<style scoped>\n",
              "    .dataframe tbody tr th:only-of-type {\n",
              "        vertical-align: middle;\n",
              "    }\n",
              "\n",
              "    .dataframe tbody tr th {\n",
              "        vertical-align: top;\n",
              "    }\n",
              "\n",
              "    .dataframe thead th {\n",
              "        text-align: right;\n",
              "    }\n",
              "</style>\n",
              "<table border=\"1\" class=\"dataframe\">\n",
              "  <thead>\n",
              "    <tr style=\"text-align: right;\">\n",
              "      <th></th>\n",
              "      <th>Id</th>\n",
              "      <th>groupId</th>\n",
              "      <th>matchId</th>\n",
              "      <th>assists</th>\n",
              "      <th>boosts</th>\n",
              "      <th>damageDealt</th>\n",
              "      <th>DBNOs</th>\n",
              "      <th>headshotKills</th>\n",
              "      <th>heals</th>\n",
              "      <th>killPlace</th>\n",
              "      <th>killPoints</th>\n",
              "      <th>kills</th>\n",
              "      <th>killStreaks</th>\n",
              "      <th>longestKill</th>\n",
              "      <th>matchDuration</th>\n",
              "      <th>matchType</th>\n",
              "      <th>maxPlace</th>\n",
              "      <th>numGroups</th>\n",
              "      <th>rankPoints</th>\n",
              "      <th>revives</th>\n",
              "      <th>rideDistance</th>\n",
              "      <th>roadKills</th>\n",
              "      <th>swimDistance</th>\n",
              "      <th>teamKills</th>\n",
              "      <th>vehicleDestroys</th>\n",
              "      <th>walkDistance</th>\n",
              "      <th>weaponsAcquired</th>\n",
              "      <th>winPoints</th>\n",
              "      <th>winPlacePerc</th>\n",
              "    </tr>\n",
              "  </thead>\n",
              "  <tbody>\n",
              "    <tr>\n",
              "      <th>0</th>\n",
              "      <td>2f262dd9795e60</td>\n",
              "      <td>78437bcd91d40e</td>\n",
              "      <td>d5db3a49eb2955</td>\n",
              "      <td>0</td>\n",
              "      <td>0</td>\n",
              "      <td>0.0</td>\n",
              "      <td>0</td>\n",
              "      <td>0</td>\n",
              "      <td>0</td>\n",
              "      <td>92</td>\n",
              "      <td>1126</td>\n",
              "      <td>0</td>\n",
              "      <td>0</td>\n",
              "      <td>0.000</td>\n",
              "      <td>1376</td>\n",
              "      <td>squad-fpp</td>\n",
              "      <td>29</td>\n",
              "      <td>28</td>\n",
              "      <td>-1</td>\n",
              "      <td>0</td>\n",
              "      <td>0.0</td>\n",
              "      <td>0</td>\n",
              "      <td>0.0</td>\n",
              "      <td>0</td>\n",
              "      <td>0</td>\n",
              "      <td>0.00</td>\n",
              "      <td>0</td>\n",
              "      <td>1470</td>\n",
              "      <td>0.0000</td>\n",
              "    </tr>\n",
              "    <tr>\n",
              "      <th>1</th>\n",
              "      <td>a32847cf5bf34b</td>\n",
              "      <td>85b7ce5a12e10b</td>\n",
              "      <td>65223f05c7fdb4</td>\n",
              "      <td>0</td>\n",
              "      <td>0</td>\n",
              "      <td>163.2</td>\n",
              "      <td>1</td>\n",
              "      <td>1</td>\n",
              "      <td>0</td>\n",
              "      <td>42</td>\n",
              "      <td>1309</td>\n",
              "      <td>1</td>\n",
              "      <td>1</td>\n",
              "      <td>6.589</td>\n",
              "      <td>1370</td>\n",
              "      <td>squad-fpp</td>\n",
              "      <td>28</td>\n",
              "      <td>28</td>\n",
              "      <td>-1</td>\n",
              "      <td>0</td>\n",
              "      <td>0.0</td>\n",
              "      <td>0</td>\n",
              "      <td>0.0</td>\n",
              "      <td>0</td>\n",
              "      <td>0</td>\n",
              "      <td>132.70</td>\n",
              "      <td>2</td>\n",
              "      <td>1531</td>\n",
              "      <td>0.2222</td>\n",
              "    </tr>\n",
              "    <tr>\n",
              "      <th>2</th>\n",
              "      <td>1b1900a9990396</td>\n",
              "      <td>edf80d6523380a</td>\n",
              "      <td>1cadec4534f30a</td>\n",
              "      <td>0</td>\n",
              "      <td>3</td>\n",
              "      <td>278.7</td>\n",
              "      <td>2</td>\n",
              "      <td>1</td>\n",
              "      <td>8</td>\n",
              "      <td>16</td>\n",
              "      <td>0</td>\n",
              "      <td>2</td>\n",
              "      <td>1</td>\n",
              "      <td>23.070</td>\n",
              "      <td>1381</td>\n",
              "      <td>squad-fpp</td>\n",
              "      <td>29</td>\n",
              "      <td>27</td>\n",
              "      <td>1479</td>\n",
              "      <td>3</td>\n",
              "      <td>0.0</td>\n",
              "      <td>0</td>\n",
              "      <td>0.0</td>\n",
              "      <td>0</td>\n",
              "      <td>0</td>\n",
              "      <td>3591.00</td>\n",
              "      <td>10</td>\n",
              "      <td>0</td>\n",
              "      <td>0.8571</td>\n",
              "    </tr>\n",
              "    <tr>\n",
              "      <th>3</th>\n",
              "      <td>f589dd03b60bf2</td>\n",
              "      <td>804ab5e5585558</td>\n",
              "      <td>c4a5676dc91604</td>\n",
              "      <td>0</td>\n",
              "      <td>0</td>\n",
              "      <td>191.9</td>\n",
              "      <td>1</td>\n",
              "      <td>0</td>\n",
              "      <td>0</td>\n",
              "      <td>31</td>\n",
              "      <td>0</td>\n",
              "      <td>1</td>\n",
              "      <td>1</td>\n",
              "      <td>24.890</td>\n",
              "      <td>1708</td>\n",
              "      <td>squad</td>\n",
              "      <td>27</td>\n",
              "      <td>25</td>\n",
              "      <td>1500</td>\n",
              "      <td>0</td>\n",
              "      <td>0.0</td>\n",
              "      <td>0</td>\n",
              "      <td>0.0</td>\n",
              "      <td>0</td>\n",
              "      <td>0</td>\n",
              "      <td>332.70</td>\n",
              "      <td>3</td>\n",
              "      <td>0</td>\n",
              "      <td>0.3462</td>\n",
              "    </tr>\n",
              "    <tr>\n",
              "      <th>4</th>\n",
              "      <td>c23c4cc5b78b35</td>\n",
              "      <td>b3e2cd169ed920</td>\n",
              "      <td>cd595700a01bfa</td>\n",
              "      <td>0</td>\n",
              "      <td>0</td>\n",
              "      <td>100.0</td>\n",
              "      <td>1</td>\n",
              "      <td>0</td>\n",
              "      <td>0</td>\n",
              "      <td>87</td>\n",
              "      <td>1332</td>\n",
              "      <td>0</td>\n",
              "      <td>0</td>\n",
              "      <td>0.000</td>\n",
              "      <td>1807</td>\n",
              "      <td>squad-fpp</td>\n",
              "      <td>30</td>\n",
              "      <td>30</td>\n",
              "      <td>-1</td>\n",
              "      <td>0</td>\n",
              "      <td>0.0</td>\n",
              "      <td>0</td>\n",
              "      <td>0.0</td>\n",
              "      <td>0</td>\n",
              "      <td>0</td>\n",
              "      <td>252.70</td>\n",
              "      <td>3</td>\n",
              "      <td>1557</td>\n",
              "      <td>0.0690</td>\n",
              "    </tr>\n",
              "    <tr>\n",
              "      <th>...</th>\n",
              "      <td>...</td>\n",
              "      <td>...</td>\n",
              "      <td>...</td>\n",
              "      <td>...</td>\n",
              "      <td>...</td>\n",
              "      <td>...</td>\n",
              "      <td>...</td>\n",
              "      <td>...</td>\n",
              "      <td>...</td>\n",
              "      <td>...</td>\n",
              "      <td>...</td>\n",
              "      <td>...</td>\n",
              "      <td>...</td>\n",
              "      <td>...</td>\n",
              "      <td>...</td>\n",
              "      <td>...</td>\n",
              "      <td>...</td>\n",
              "      <td>...</td>\n",
              "      <td>...</td>\n",
              "      <td>...</td>\n",
              "      <td>...</td>\n",
              "      <td>...</td>\n",
              "      <td>...</td>\n",
              "      <td>...</td>\n",
              "      <td>...</td>\n",
              "      <td>...</td>\n",
              "      <td>...</td>\n",
              "      <td>...</td>\n",
              "      <td>...</td>\n",
              "    </tr>\n",
              "    <tr>\n",
              "      <th>9995</th>\n",
              "      <td>ef4f474acd8e85</td>\n",
              "      <td>2eca2a8391f75d</td>\n",
              "      <td>492ecdfae90b46</td>\n",
              "      <td>0</td>\n",
              "      <td>3</td>\n",
              "      <td>204.5</td>\n",
              "      <td>1</td>\n",
              "      <td>0</td>\n",
              "      <td>0</td>\n",
              "      <td>17</td>\n",
              "      <td>1033</td>\n",
              "      <td>2</td>\n",
              "      <td>1</td>\n",
              "      <td>13.270</td>\n",
              "      <td>1288</td>\n",
              "      <td>squad-fpp</td>\n",
              "      <td>31</td>\n",
              "      <td>30</td>\n",
              "      <td>-1</td>\n",
              "      <td>3</td>\n",
              "      <td>0.0</td>\n",
              "      <td>0</td>\n",
              "      <td>0.0</td>\n",
              "      <td>0</td>\n",
              "      <td>0</td>\n",
              "      <td>1648.00</td>\n",
              "      <td>4</td>\n",
              "      <td>1471</td>\n",
              "      <td>0.8333</td>\n",
              "    </tr>\n",
              "    <tr>\n",
              "      <th>9996</th>\n",
              "      <td>cf0bf82fb4d80e</td>\n",
              "      <td>2eaf2765f93adb</td>\n",
              "      <td>14bffd71e96320</td>\n",
              "      <td>0</td>\n",
              "      <td>0</td>\n",
              "      <td>0.0</td>\n",
              "      <td>0</td>\n",
              "      <td>0</td>\n",
              "      <td>0</td>\n",
              "      <td>49</td>\n",
              "      <td>1000</td>\n",
              "      <td>0</td>\n",
              "      <td>0</td>\n",
              "      <td>0.000</td>\n",
              "      <td>1906</td>\n",
              "      <td>duo-fpp</td>\n",
              "      <td>47</td>\n",
              "      <td>44</td>\n",
              "      <td>-1</td>\n",
              "      <td>0</td>\n",
              "      <td>0.0</td>\n",
              "      <td>0</td>\n",
              "      <td>0.0</td>\n",
              "      <td>0</td>\n",
              "      <td>0</td>\n",
              "      <td>897.10</td>\n",
              "      <td>6</td>\n",
              "      <td>1500</td>\n",
              "      <td>0.7174</td>\n",
              "    </tr>\n",
              "    <tr>\n",
              "      <th>9997</th>\n",
              "      <td>a0a31a0b1dcbe1</td>\n",
              "      <td>8d50c64ccc5071</td>\n",
              "      <td>147e4bbb62e3bb</td>\n",
              "      <td>0</td>\n",
              "      <td>0</td>\n",
              "      <td>0.0</td>\n",
              "      <td>0</td>\n",
              "      <td>0</td>\n",
              "      <td>0</td>\n",
              "      <td>83</td>\n",
              "      <td>1334</td>\n",
              "      <td>0</td>\n",
              "      <td>0</td>\n",
              "      <td>0.000</td>\n",
              "      <td>1344</td>\n",
              "      <td>duo-fpp</td>\n",
              "      <td>49</td>\n",
              "      <td>49</td>\n",
              "      <td>-1</td>\n",
              "      <td>0</td>\n",
              "      <td>0.0</td>\n",
              "      <td>0</td>\n",
              "      <td>0.0</td>\n",
              "      <td>0</td>\n",
              "      <td>0</td>\n",
              "      <td>188.20</td>\n",
              "      <td>2</td>\n",
              "      <td>1434</td>\n",
              "      <td>0.2083</td>\n",
              "    </tr>\n",
              "    <tr>\n",
              "      <th>9998</th>\n",
              "      <td>f6874657399d69</td>\n",
              "      <td>d31843d7e62ccb</td>\n",
              "      <td>662567dcf280f5</td>\n",
              "      <td>0</td>\n",
              "      <td>0</td>\n",
              "      <td>0.0</td>\n",
              "      <td>0</td>\n",
              "      <td>0</td>\n",
              "      <td>0</td>\n",
              "      <td>82</td>\n",
              "      <td>1335</td>\n",
              "      <td>0</td>\n",
              "      <td>0</td>\n",
              "      <td>0.000</td>\n",
              "      <td>1355</td>\n",
              "      <td>duo-fpp</td>\n",
              "      <td>50</td>\n",
              "      <td>50</td>\n",
              "      <td>-1</td>\n",
              "      <td>0</td>\n",
              "      <td>0.0</td>\n",
              "      <td>0</td>\n",
              "      <td>0.0</td>\n",
              "      <td>0</td>\n",
              "      <td>0</td>\n",
              "      <td>108.10</td>\n",
              "      <td>5</td>\n",
              "      <td>1534</td>\n",
              "      <td>0.2449</td>\n",
              "    </tr>\n",
              "    <tr>\n",
              "      <th>9999</th>\n",
              "      <td>90359b0b8f8b0d</td>\n",
              "      <td>61d5b1bb8da43f</td>\n",
              "      <td>258bfa48d88014</td>\n",
              "      <td>0</td>\n",
              "      <td>0</td>\n",
              "      <td>0.0</td>\n",
              "      <td>0</td>\n",
              "      <td>0</td>\n",
              "      <td>0</td>\n",
              "      <td>78</td>\n",
              "      <td>0</td>\n",
              "      <td>0</td>\n",
              "      <td>0</td>\n",
              "      <td>0.000</td>\n",
              "      <td>1416</td>\n",
              "      <td>solo</td>\n",
              "      <td>97</td>\n",
              "      <td>93</td>\n",
              "      <td>1511</td>\n",
              "      <td>0</td>\n",
              "      <td>0.0</td>\n",
              "      <td>0</td>\n",
              "      <td>0.0</td>\n",
              "      <td>0</td>\n",
              "      <td>0</td>\n",
              "      <td>53.36</td>\n",
              "      <td>1</td>\n",
              "      <td>0</td>\n",
              "      <td>0.1875</td>\n",
              "    </tr>\n",
              "  </tbody>\n",
              "</table>\n",
              "<p>10000 rows × 29 columns</p>\n",
              "</div>"
            ],
            "text/plain": [
              "                  Id         groupId  ... winPoints  winPlacePerc\n",
              "0     2f262dd9795e60  78437bcd91d40e  ...      1470        0.0000\n",
              "1     a32847cf5bf34b  85b7ce5a12e10b  ...      1531        0.2222\n",
              "2     1b1900a9990396  edf80d6523380a  ...         0        0.8571\n",
              "3     f589dd03b60bf2  804ab5e5585558  ...         0        0.3462\n",
              "4     c23c4cc5b78b35  b3e2cd169ed920  ...      1557        0.0690\n",
              "...              ...             ...  ...       ...           ...\n",
              "9995  ef4f474acd8e85  2eca2a8391f75d  ...      1471        0.8333\n",
              "9996  cf0bf82fb4d80e  2eaf2765f93adb  ...      1500        0.7174\n",
              "9997  a0a31a0b1dcbe1  8d50c64ccc5071  ...      1434        0.2083\n",
              "9998  f6874657399d69  d31843d7e62ccb  ...      1534        0.2449\n",
              "9999  90359b0b8f8b0d  61d5b1bb8da43f  ...         0        0.1875\n",
              "\n",
              "[10000 rows x 29 columns]"
            ]
          },
          "metadata": {
            "tags": []
          },
          "execution_count": 5
        }
      ]
    },
    {
      "cell_type": "markdown",
      "metadata": {
        "id": "coVpkpHkag68"
      },
      "source": [
        "**2. Check the datatype of all the columns.**"
      ]
    },
    {
      "cell_type": "code",
      "metadata": {
        "id": "CatIibiGahIJ",
        "outputId": "77739d5b-0502-44fc-a7e9-88e64aa49d3c",
        "colab": {
          "base_uri": "https://localhost:8080/"
        }
      },
      "source": [
        "data_type = df.dtypes\n",
        "data_type"
      ],
      "execution_count": 3,
      "outputs": [
        {
          "output_type": "execute_result",
          "data": {
            "text/plain": [
              "Id                  object\n",
              "groupId             object\n",
              "matchId             object\n",
              "assists              int64\n",
              "boosts               int64\n",
              "damageDealt        float64\n",
              "DBNOs                int64\n",
              "headshotKills        int64\n",
              "heals                int64\n",
              "killPlace            int64\n",
              "killPoints           int64\n",
              "kills                int64\n",
              "killStreaks          int64\n",
              "longestKill        float64\n",
              "matchDuration        int64\n",
              "matchType           object\n",
              "maxPlace             int64\n",
              "numGroups            int64\n",
              "rankPoints           int64\n",
              "revives              int64\n",
              "rideDistance       float64\n",
              "roadKills            int64\n",
              "swimDistance       float64\n",
              "teamKills            int64\n",
              "vehicleDestroys      int64\n",
              "walkDistance       float64\n",
              "weaponsAcquired      int64\n",
              "winPoints            int64\n",
              "winPlacePerc       float64\n",
              "dtype: object"
            ]
          },
          "metadata": {
            "tags": []
          },
          "execution_count": 3
        }
      ]
    },
    {
      "cell_type": "markdown",
      "metadata": {
        "id": "rj0GFp2UahVO"
      },
      "source": [
        "**3. Find the summary of all the numerical columns and write your findings about it.**"
      ]
    },
    {
      "cell_type": "code",
      "metadata": {
        "id": "X2Pyytc_a5WX",
        "outputId": "a51235e7-1b43-4930-c315-67d619bca775",
        "colab": {
          "base_uri": "https://localhost:8080/",
          "height": 304
        }
      },
      "source": [
        "sum = df.describe()\n",
        "sum"
      ],
      "execution_count": 4,
      "outputs": [
        {
          "output_type": "execute_result",
          "data": {
            "text/html": [
              "<div>\n",
              "<style scoped>\n",
              "    .dataframe tbody tr th:only-of-type {\n",
              "        vertical-align: middle;\n",
              "    }\n",
              "\n",
              "    .dataframe tbody tr th {\n",
              "        vertical-align: top;\n",
              "    }\n",
              "\n",
              "    .dataframe thead th {\n",
              "        text-align: right;\n",
              "    }\n",
              "</style>\n",
              "<table border=\"1\" class=\"dataframe\">\n",
              "  <thead>\n",
              "    <tr style=\"text-align: right;\">\n",
              "      <th></th>\n",
              "      <th>assists</th>\n",
              "      <th>boosts</th>\n",
              "      <th>damageDealt</th>\n",
              "      <th>DBNOs</th>\n",
              "      <th>headshotKills</th>\n",
              "      <th>heals</th>\n",
              "      <th>killPlace</th>\n",
              "      <th>killPoints</th>\n",
              "      <th>kills</th>\n",
              "      <th>killStreaks</th>\n",
              "      <th>longestKill</th>\n",
              "      <th>matchDuration</th>\n",
              "      <th>maxPlace</th>\n",
              "      <th>numGroups</th>\n",
              "      <th>rankPoints</th>\n",
              "      <th>revives</th>\n",
              "      <th>rideDistance</th>\n",
              "      <th>roadKills</th>\n",
              "      <th>swimDistance</th>\n",
              "      <th>teamKills</th>\n",
              "      <th>vehicleDestroys</th>\n",
              "      <th>walkDistance</th>\n",
              "      <th>weaponsAcquired</th>\n",
              "      <th>winPoints</th>\n",
              "      <th>winPlacePerc</th>\n",
              "    </tr>\n",
              "  </thead>\n",
              "  <tbody>\n",
              "    <tr>\n",
              "      <th>count</th>\n",
              "      <td>10000.000000</td>\n",
              "      <td>10000.000000</td>\n",
              "      <td>10000.000000</td>\n",
              "      <td>10000.00000</td>\n",
              "      <td>10000.000000</td>\n",
              "      <td>10000.000000</td>\n",
              "      <td>10000.000000</td>\n",
              "      <td>10000.000000</td>\n",
              "      <td>10000.000000</td>\n",
              "      <td>10000.000000</td>\n",
              "      <td>10000.000000</td>\n",
              "      <td>10000.000000</td>\n",
              "      <td>10000.000000</td>\n",
              "      <td>10000.000000</td>\n",
              "      <td>10000.000000</td>\n",
              "      <td>10000.000000</td>\n",
              "      <td>10000.000000</td>\n",
              "      <td>10000.000000</td>\n",
              "      <td>10000.000000</td>\n",
              "      <td>10000.000000</td>\n",
              "      <td>10000.000000</td>\n",
              "      <td>10000.000000</td>\n",
              "      <td>10000.00000</td>\n",
              "      <td>10000.0000</td>\n",
              "      <td>10000.000000</td>\n",
              "    </tr>\n",
              "    <tr>\n",
              "      <th>mean</th>\n",
              "      <td>0.234600</td>\n",
              "      <td>1.088500</td>\n",
              "      <td>129.211264</td>\n",
              "      <td>0.64400</td>\n",
              "      <td>0.221700</td>\n",
              "      <td>1.354000</td>\n",
              "      <td>47.663100</td>\n",
              "      <td>506.970200</td>\n",
              "      <td>0.913400</td>\n",
              "      <td>0.543800</td>\n",
              "      <td>23.272333</td>\n",
              "      <td>1575.398000</td>\n",
              "      <td>44.655500</td>\n",
              "      <td>43.151300</td>\n",
              "      <td>889.699600</td>\n",
              "      <td>0.160200</td>\n",
              "      <td>600.693584</td>\n",
              "      <td>0.004200</td>\n",
              "      <td>4.385917</td>\n",
              "      <td>0.024400</td>\n",
              "      <td>0.007700</td>\n",
              "      <td>1130.008410</td>\n",
              "      <td>3.63590</td>\n",
              "      <td>609.3440</td>\n",
              "      <td>0.469926</td>\n",
              "    </tr>\n",
              "    <tr>\n",
              "      <th>std</th>\n",
              "      <td>0.575149</td>\n",
              "      <td>1.703279</td>\n",
              "      <td>167.193945</td>\n",
              "      <td>1.09562</td>\n",
              "      <td>0.577046</td>\n",
              "      <td>2.629102</td>\n",
              "      <td>27.424146</td>\n",
              "      <td>627.297959</td>\n",
              "      <td>1.524117</td>\n",
              "      <td>0.701948</td>\n",
              "      <td>50.536262</td>\n",
              "      <td>258.963515</td>\n",
              "      <td>23.800859</td>\n",
              "      <td>23.272567</td>\n",
              "      <td>738.535034</td>\n",
              "      <td>0.454045</td>\n",
              "      <td>1524.915601</td>\n",
              "      <td>0.074719</td>\n",
              "      <td>30.889620</td>\n",
              "      <td>0.171486</td>\n",
              "      <td>0.089674</td>\n",
              "      <td>1168.597983</td>\n",
              "      <td>2.42209</td>\n",
              "      <td>739.7924</td>\n",
              "      <td>0.304508</td>\n",
              "    </tr>\n",
              "    <tr>\n",
              "      <th>min</th>\n",
              "      <td>0.000000</td>\n",
              "      <td>0.000000</td>\n",
              "      <td>0.000000</td>\n",
              "      <td>0.00000</td>\n",
              "      <td>0.000000</td>\n",
              "      <td>0.000000</td>\n",
              "      <td>1.000000</td>\n",
              "      <td>0.000000</td>\n",
              "      <td>0.000000</td>\n",
              "      <td>0.000000</td>\n",
              "      <td>0.000000</td>\n",
              "      <td>464.000000</td>\n",
              "      <td>2.000000</td>\n",
              "      <td>2.000000</td>\n",
              "      <td>-1.000000</td>\n",
              "      <td>0.000000</td>\n",
              "      <td>0.000000</td>\n",
              "      <td>0.000000</td>\n",
              "      <td>0.000000</td>\n",
              "      <td>0.000000</td>\n",
              "      <td>0.000000</td>\n",
              "      <td>0.000000</td>\n",
              "      <td>0.00000</td>\n",
              "      <td>0.0000</td>\n",
              "      <td>0.000000</td>\n",
              "    </tr>\n",
              "    <tr>\n",
              "      <th>25%</th>\n",
              "      <td>0.000000</td>\n",
              "      <td>0.000000</td>\n",
              "      <td>0.000000</td>\n",
              "      <td>0.00000</td>\n",
              "      <td>0.000000</td>\n",
              "      <td>0.000000</td>\n",
              "      <td>24.000000</td>\n",
              "      <td>0.000000</td>\n",
              "      <td>0.000000</td>\n",
              "      <td>0.000000</td>\n",
              "      <td>0.000000</td>\n",
              "      <td>1366.000000</td>\n",
              "      <td>28.000000</td>\n",
              "      <td>27.000000</td>\n",
              "      <td>-1.000000</td>\n",
              "      <td>0.000000</td>\n",
              "      <td>0.000000</td>\n",
              "      <td>0.000000</td>\n",
              "      <td>0.000000</td>\n",
              "      <td>0.000000</td>\n",
              "      <td>0.000000</td>\n",
              "      <td>151.575000</td>\n",
              "      <td>2.00000</td>\n",
              "      <td>0.0000</td>\n",
              "      <td>0.200000</td>\n",
              "    </tr>\n",
              "    <tr>\n",
              "      <th>50%</th>\n",
              "      <td>0.000000</td>\n",
              "      <td>0.000000</td>\n",
              "      <td>83.805000</td>\n",
              "      <td>0.00000</td>\n",
              "      <td>0.000000</td>\n",
              "      <td>0.000000</td>\n",
              "      <td>48.000000</td>\n",
              "      <td>0.000000</td>\n",
              "      <td>0.000000</td>\n",
              "      <td>0.000000</td>\n",
              "      <td>0.000000</td>\n",
              "      <td>1431.500000</td>\n",
              "      <td>30.000000</td>\n",
              "      <td>30.000000</td>\n",
              "      <td>1444.000000</td>\n",
              "      <td>0.000000</td>\n",
              "      <td>0.000000</td>\n",
              "      <td>0.000000</td>\n",
              "      <td>0.000000</td>\n",
              "      <td>0.000000</td>\n",
              "      <td>0.000000</td>\n",
              "      <td>650.350000</td>\n",
              "      <td>3.00000</td>\n",
              "      <td>0.0000</td>\n",
              "      <td>0.458300</td>\n",
              "    </tr>\n",
              "    <tr>\n",
              "      <th>75%</th>\n",
              "      <td>0.000000</td>\n",
              "      <td>2.000000</td>\n",
              "      <td>185.325000</td>\n",
              "      <td>1.00000</td>\n",
              "      <td>0.000000</td>\n",
              "      <td>2.000000</td>\n",
              "      <td>71.000000</td>\n",
              "      <td>1169.000000</td>\n",
              "      <td>1.000000</td>\n",
              "      <td>1.000000</td>\n",
              "      <td>22.345000</td>\n",
              "      <td>1849.250000</td>\n",
              "      <td>49.000000</td>\n",
              "      <td>47.000000</td>\n",
              "      <td>1500.000000</td>\n",
              "      <td>0.000000</td>\n",
              "      <td>0.000575</td>\n",
              "      <td>0.000000</td>\n",
              "      <td>0.000000</td>\n",
              "      <td>0.000000</td>\n",
              "      <td>0.000000</td>\n",
              "      <td>1923.250000</td>\n",
              "      <td>5.00000</td>\n",
              "      <td>1495.0000</td>\n",
              "      <td>0.735100</td>\n",
              "    </tr>\n",
              "    <tr>\n",
              "      <th>max</th>\n",
              "      <td>7.000000</td>\n",
              "      <td>18.000000</td>\n",
              "      <td>3469.000000</td>\n",
              "      <td>11.00000</td>\n",
              "      <td>14.000000</td>\n",
              "      <td>31.000000</td>\n",
              "      <td>100.000000</td>\n",
              "      <td>1926.000000</td>\n",
              "      <td>35.000000</td>\n",
              "      <td>4.000000</td>\n",
              "      <td>538.600000</td>\n",
              "      <td>2202.000000</td>\n",
              "      <td>100.000000</td>\n",
              "      <td>100.000000</td>\n",
              "      <td>2835.000000</td>\n",
              "      <td>5.000000</td>\n",
              "      <td>28780.000000</td>\n",
              "      <td>3.000000</td>\n",
              "      <td>971.200000</td>\n",
              "      <td>3.000000</td>\n",
              "      <td>2.000000</td>\n",
              "      <td>10490.000000</td>\n",
              "      <td>41.00000</td>\n",
              "      <td>1863.0000</td>\n",
              "      <td>1.000000</td>\n",
              "    </tr>\n",
              "  </tbody>\n",
              "</table>\n",
              "</div>"
            ],
            "text/plain": [
              "            assists        boosts  ...   winPoints  winPlacePerc\n",
              "count  10000.000000  10000.000000  ...  10000.0000  10000.000000\n",
              "mean       0.234600      1.088500  ...    609.3440      0.469926\n",
              "std        0.575149      1.703279  ...    739.7924      0.304508\n",
              "min        0.000000      0.000000  ...      0.0000      0.000000\n",
              "25%        0.000000      0.000000  ...      0.0000      0.200000\n",
              "50%        0.000000      0.000000  ...      0.0000      0.458300\n",
              "75%        0.000000      2.000000  ...   1495.0000      0.735100\n",
              "max        7.000000     18.000000  ...   1863.0000      1.000000\n",
              "\n",
              "[8 rows x 25 columns]"
            ]
          },
          "metadata": {
            "tags": []
          },
          "execution_count": 4
        }
      ]
    },
    {
      "cell_type": "markdown",
      "metadata": {
        "id": "8xMsjZifbB26"
      },
      "source": [
        "**4. The average person kills how many players?**"
      ]
    },
    {
      "cell_type": "code",
      "metadata": {
        "id": "MHd9El6ObCwZ",
        "outputId": "e7b4c869-1a46-4e7b-ee15-8c1a7cd62ff5",
        "colab": {
          "base_uri": "https://localhost:8080/"
        }
      },
      "source": [
        "avg_kills = df.kills.mean()\n",
        "print(\"The average person kills: \", avg_kills)"
      ],
      "execution_count": 5,
      "outputs": [
        {
          "output_type": "stream",
          "text": [
            "The average person kills:  0.9134\n"
          ],
          "name": "stdout"
        }
      ]
    },
    {
      "cell_type": "markdown",
      "metadata": {
        "id": "iDSbrOUabGZO"
      },
      "source": [
        "**5. 99% of people have how many kills?**\n"
      ]
    },
    {
      "cell_type": "code",
      "metadata": {
        "id": "SGH66YepbNdZ",
        "outputId": "735ea6a4-2b07-427f-b560-602527cc5966",
        "colab": {
          "base_uri": "https://localhost:8080/"
        }
      },
      "source": [
        "import numpy as np\n",
        "np.percentile(df.kills,99)"
      ],
      "execution_count": 6,
      "outputs": [
        {
          "output_type": "execute_result",
          "data": {
            "text/plain": [
              "7.0"
            ]
          },
          "metadata": {
            "tags": []
          },
          "execution_count": 6
        }
      ]
    },
    {
      "cell_type": "markdown",
      "metadata": {
        "id": "I_TsfSG6bRNE"
      },
      "source": [
        "**6. The most kills ever recorded are how much?**"
      ]
    },
    {
      "cell_type": "code",
      "metadata": {
        "id": "TtR1jXrPbXwA",
        "outputId": "d7a666e6-dc73-42b1-adb1-fe1e3f765fcb",
        "colab": {
          "base_uri": "https://localhost:8080/"
        }
      },
      "source": [
        "df.kills.max()"
      ],
      "execution_count": 7,
      "outputs": [
        {
          "output_type": "execute_result",
          "data": {
            "text/plain": [
              "35"
            ]
          },
          "metadata": {
            "tags": []
          },
          "execution_count": 7
        }
      ]
    },
    {
      "cell_type": "markdown",
      "metadata": {
        "id": "MxP8qCHUbaRM"
      },
      "source": [
        "**7. Print all the columns of the dataframe**"
      ]
    },
    {
      "cell_type": "code",
      "metadata": {
        "id": "iByKgiU_bej5",
        "outputId": "92cf6cc0-2e53-435a-9248-0e13cd792f9d",
        "colab": {
          "base_uri": "https://localhost:8080/"
        }
      },
      "source": [
        "df.columns"
      ],
      "execution_count": 8,
      "outputs": [
        {
          "output_type": "execute_result",
          "data": {
            "text/plain": [
              "Index(['Id', 'groupId', 'matchId', 'assists', 'boosts', 'damageDealt', 'DBNOs',\n",
              "       'headshotKills', 'heals', 'killPlace', 'killPoints', 'kills',\n",
              "       'killStreaks', 'longestKill', 'matchDuration', 'matchType', 'maxPlace',\n",
              "       'numGroups', 'rankPoints', 'revives', 'rideDistance', 'roadKills',\n",
              "       'swimDistance', 'teamKills', 'vehicleDestroys', 'walkDistance',\n",
              "       'weaponsAcquired', 'winPoints', 'winPlacePerc'],\n",
              "      dtype='object')"
            ]
          },
          "metadata": {
            "tags": []
          },
          "execution_count": 8
        }
      ]
    },
    {
      "cell_type": "markdown",
      "metadata": {
        "id": "R6PEWw0bbicr"
      },
      "source": [
        "**8. Comment on distribution of the match's duration. Use seaborn**"
      ]
    },
    {
      "cell_type": "code",
      "metadata": {
        "id": "TcePEgP7bixK",
        "outputId": "6eb2528f-2a85-4419-bc3b-a808932d52e0",
        "colab": {
          "base_uri": "https://localhost:8080/",
          "height": 350
        }
      },
      "source": [
        "import seaborn as sns\n",
        "sns.distplot(df.matchDuration)"
      ],
      "execution_count": 9,
      "outputs": [
        {
          "output_type": "stream",
          "text": [
            "/usr/local/lib/python3.6/dist-packages/seaborn/distributions.py:2551: FutureWarning: `distplot` is a deprecated function and will be removed in a future version. Please adapt your code to use either `displot` (a figure-level function with similar flexibility) or `histplot` (an axes-level function for histograms).\n",
            "  warnings.warn(msg, FutureWarning)\n"
          ],
          "name": "stderr"
        },
        {
          "output_type": "execute_result",
          "data": {
            "text/plain": [
              "<matplotlib.axes._subplots.AxesSubplot at 0x7f7109169240>"
            ]
          },
          "metadata": {
            "tags": []
          },
          "execution_count": 9
        },
        {
          "output_type": "display_data",
          "data": {
            "image/png": "[encoded data removed]",
            "text/plain": [
              "<Figure size 432x288 with 1 Axes>"
            ]
          },
          "metadata": {
            "tags": [],
            "needs_background": "light"
          }
        }
      ]
    },
    {
      "cell_type": "markdown",
      "metadata": {
        "id": "D6wJ5c04bsis"
      },
      "source": [
        "**9. Comment on distribution of the walk distance. Use seaborn**"
      ]
    },
    {
      "cell_type": "code",
      "metadata": {
        "id": "oweNUf5hbswH",
        "outputId": "c5aa0c92-e16d-49dc-e577-07258fc0a342",
        "colab": {
          "base_uri": "https://localhost:8080/",
          "height": 350
        }
      },
      "source": [
        "import seaborn as sns\n",
        "sns.distplot(df.walkDistance)"
      ],
      "execution_count": 10,
      "outputs": [
        {
          "output_type": "stream",
          "text": [
            "/usr/local/lib/python3.6/dist-packages/seaborn/distributions.py:2551: FutureWarning: `distplot` is a deprecated function and will be removed in a future version. Please adapt your code to use either `displot` (a figure-level function with similar flexibility) or `histplot` (an axes-level function for histograms).\n",
            "  warnings.warn(msg, FutureWarning)\n"
          ],
          "name": "stderr"
        },
        {
          "output_type": "execute_result",
          "data": {
            "text/plain": [
              "<matplotlib.axes._subplots.AxesSubplot at 0x7f7113182390>"
            ]
          },
          "metadata": {
            "tags": []
          },
          "execution_count": 10
        },
        {
          "output_type": "display_data",
          "data": {
            "image/png": "[encoded data removed]",
            "text/plain": [
              "<Figure size 432x288 with 1 Axes>"
            ]
          },
          "metadata": {
            "tags": [],
            "needs_background": "light"
          }
        }
      ]
    },
    {
      "cell_type": "markdown",
      "metadata": {
        "id": "tRK1QCb6b0Ub"
      },
      "source": [
        "**10. Plot distribution of the match's duration vs walk distance one below the other**"
      ]
    },
    {
      "cell_type": "code",
      "metadata": {
        "id": "SJjatNX7b5lC",
        "outputId": "5c600479-8f0a-4ce5-eb05-a2e48ea306f2",
        "colab": {
          "base_uri": "https://localhost:8080/",
          "height": 383
        }
      },
      "source": [
        "import seaborn as sns\n",
        "import matplotlib.pyplot as plt\n",
        "fig,axis = plt.subplots(2,1)\n",
        "sns.distplot(df.matchDuration,ax=axis[0])\n",
        "sns.distplot(df.walkDistance,ax = axis[1])"
      ],
      "execution_count": 11,
      "outputs": [
        {
          "output_type": "stream",
          "text": [
            "/usr/local/lib/python3.6/dist-packages/seaborn/distributions.py:2551: FutureWarning: `distplot` is a deprecated function and will be removed in a future version. Please adapt your code to use either `displot` (a figure-level function with similar flexibility) or `histplot` (an axes-level function for histograms).\n",
            "  warnings.warn(msg, FutureWarning)\n",
            "/usr/local/lib/python3.6/dist-packages/seaborn/distributions.py:2551: FutureWarning: `distplot` is a deprecated function and will be removed in a future version. Please adapt your code to use either `displot` (a figure-level function with similar flexibility) or `histplot` (an axes-level function for histograms).\n",
            "  warnings.warn(msg, FutureWarning)\n"
          ],
          "name": "stderr"
        },
        {
          "output_type": "execute_result",
          "data": {
            "text/plain": [
              "<matplotlib.axes._subplots.AxesSubplot at 0x7f710780c048>"
            ]
          },
          "metadata": {
            "tags": []
          },
          "execution_count": 11
        },
        {
          "output_type": "display_data",
          "data": {
            "image/png": "[encoded data removed]",
            "text/plain": [
              "<Figure size 432x288 with 2 Axes>"
            ]
          },
          "metadata": {
            "tags": [],
            "needs_background": "light"
          }
        }
      ]
    },
    {
      "cell_type": "markdown",
      "metadata": {
        "id": "-NrNkVeJcAMD"
      },
      "source": [
        "**11. Plot distribution of the match's duration vs walk distance side by side**"
      ]
    },
    {
      "cell_type": "code",
      "metadata": {
        "id": "hhX-qEMzcB7E",
        "outputId": "ca0a4554-da30-4456-fae4-c54c7996af36",
        "colab": {
          "base_uri": "https://localhost:8080/",
          "height": 383
        }
      },
      "source": [
        "import seaborn as sns\n",
        "import matplotlib.pyplot as plt\n",
        "fig,axis = plt.subplots(1,2)\n",
        "sns.distplot(df.matchDuration,ax=axis[0])\n",
        "sns.distplot(df.walkDistance,ax = axis[1])"
      ],
      "execution_count": 12,
      "outputs": [
        {
          "output_type": "stream",
          "text": [
            "/usr/local/lib/python3.6/dist-packages/seaborn/distributions.py:2551: FutureWarning: `distplot` is a deprecated function and will be removed in a future version. Please adapt your code to use either `displot` (a figure-level function with similar flexibility) or `histplot` (an axes-level function for histograms).\n",
            "  warnings.warn(msg, FutureWarning)\n",
            "/usr/local/lib/python3.6/dist-packages/seaborn/distributions.py:2551: FutureWarning: `distplot` is a deprecated function and will be removed in a future version. Please adapt your code to use either `displot` (a figure-level function with similar flexibility) or `histplot` (an axes-level function for histograms).\n",
            "  warnings.warn(msg, FutureWarning)\n"
          ],
          "name": "stderr"
        },
        {
          "output_type": "execute_result",
          "data": {
            "text/plain": [
              "<matplotlib.axes._subplots.AxesSubplot at 0x7f710786a908>"
            ]
          },
          "metadata": {
            "tags": []
          },
          "execution_count": 12
        },
        {
          "output_type": "display_data",
          "data": {
            "image/png": "[encoded data removed]",
            "text/plain": [
              "<Figure size 432x288 with 2 Axes>"
            ]
          },
          "metadata": {
            "tags": [],
            "needs_background": "light"
          }
        }
      ]
    },
    {
      "cell_type": "markdown",
      "metadata": {
        "id": "QD5BCRbGcGfJ"
      },
      "source": [
        "**12. Pairplot the dataframe. Comment on kills vs damage dealt, Comment on maxPlace vs numGroups**"
      ]
    },
    {
      "cell_type": "code",
      "metadata": {
        "id": "GrEtFhsElZid"
      },
      "source": [
        "import seaborn as sns\n",
        "import pandas as pd\n",
        "df = pd.read_csv(\"pubg.csv\")\n",
        "sns.pairplot(df)"
      ],
      "execution_count": null,
      "outputs": []
    },
    {
      "cell_type": "markdown",
      "metadata": {
        "id": "uwfUPlKa4j85"
      },
      "source": [
        "**13. How many unique values are there in 'matchType' and what are their counts?**"
      ]
    },
    {
      "cell_type": "code",
      "metadata": {
        "id": "B0ztOHjBlQfZ",
        "outputId": "54afac46-9a79-4173-e7ee-56a66abc91bc",
        "colab": {
          "base_uri": "https://localhost:8080/"
        }
      },
      "source": [
        "df.matchType.value_counts()\n"
      ],
      "execution_count": 23,
      "outputs": [
        {
          "output_type": "execute_result",
          "data": {
            "text/plain": [
              "squad-fpp           3969\n",
              "duo-fpp             2282\n",
              "squad               1359\n",
              "solo-fpp            1234\n",
              "duo                  702\n",
              "solo                 386\n",
              "normal-squad-fpp      24\n",
              "crashfpp              13\n",
              "normal-duo-fpp        13\n",
              "normal-solo-fpp        8\n",
              "normal-squad           4\n",
              "flaretpp               3\n",
              "crashtpp               2\n",
              "flarefpp               1\n",
              "Name: matchType, dtype: int64"
            ]
          },
          "metadata": {
            "tags": []
          },
          "execution_count": 23
        }
      ]
    },
    {
      "cell_type": "markdown",
      "metadata": {
        "id": "4OV0aigthlYK"
      },
      "source": [
        "**14. Plot a barplot of ‘matchType’ vs 'killPoints'. Write your inferences.**"
      ]
    },
    {
      "cell_type": "code",
      "metadata": {
        "id": "6ANb7CapjTqN",
        "outputId": "b8e710a3-4af4-4b7d-ca2a-8bc0ba0481aa",
        "colab": {
          "base_uri": "https://localhost:8080/",
          "height": 410
        }
      },
      "source": [
        "import seaborn as sns\n",
        "import matplotlib.pyplot as plt\n",
        "sns.barplot(df.matchType,df.killPoints);\n",
        "plt.xticks(rotation=70);"
      ],
      "execution_count": 11,
      "outputs": [
        {
          "output_type": "stream",
          "text": [
            "/usr/local/lib/python3.6/dist-packages/seaborn/_decorators.py:43: FutureWarning: Pass the following variables as keyword args: x, y. From version 0.12, the only valid positional argument will be `data`, and passing other arguments without an explicit keyword will result in an error or misinterpretation.\n",
            "  FutureWarning\n"
          ],
          "name": "stderr"
        },
        {
          "output_type": "display_data",
          "data": {
            "image/png": "[encoded data removed]",
            "text/plain": [
              "<Figure size 432x288 with 1 Axes>"
            ]
          },
          "metadata": {
            "tags": [],
            "needs_background": "light"
          }
        }
      ]
    },
    {
      "cell_type": "markdown",
      "metadata": {
        "id": "aXtW0Kss4xBW"
      },
      "source": [
        "**15. Plot a barplot of ‘matchType’ vs ‘weaponsAcquired’. Write your inferences**"
      ]
    },
    {
      "cell_type": "code",
      "metadata": {
        "id": "bzh2hotvkCEG",
        "outputId": "0263ed09-d568-4c48-b85f-f07027024fcc",
        "colab": {
          "base_uri": "https://localhost:8080/",
          "height": 410
        }
      },
      "source": [
        "sns.barplot(df.matchType,df.weaponsAcquired);\n",
        "plt.xticks(rotation=70);"
      ],
      "execution_count": 12,
      "outputs": [
        {
          "output_type": "stream",
          "text": [
            "/usr/local/lib/python3.6/dist-packages/seaborn/_decorators.py:43: FutureWarning: Pass the following variables as keyword args: x, y. From version 0.12, the only valid positional argument will be `data`, and passing other arguments without an explicit keyword will result in an error or misinterpretation.\n",
            "  FutureWarning\n"
          ],
          "name": "stderr"
        },
        {
          "output_type": "display_data",
          "data": {
            "image/png": "[encoded data removed]",
            "text/plain": [
              "<Figure size 432x288 with 1 Axes>"
            ]
          },
          "metadata": {
            "tags": [],
            "needs_background": "light"
          }
        }
      ]
    },
    {
      "cell_type": "markdown",
      "metadata": {
        "id": "9d_Kbhx646t3"
      },
      "source": [
        "**16. Find the Categorical columns.**"
      ]
    },
    {
      "cell_type": "code",
      "metadata": {
        "id": "UFMZBzqikNwr",
        "outputId": "2e7de0f9-7ef3-4f4a-a7dd-b07681c493f2",
        "colab": {
          "base_uri": "https://localhost:8080/",
          "height": 402
        }
      },
      "source": [
        "df.select_dtypes(exclude=['number'])"
      ],
      "execution_count": 13,
      "outputs": [
        {
          "output_type": "execute_result",
          "data": {
            "text/html": [
              "<div>\n",
              "<style scoped>\n",
              "    .dataframe tbody tr th:only-of-type {\n",
              "        vertical-align: middle;\n",
              "    }\n",
              "\n",
              "    .dataframe tbody tr th {\n",
              "        vertical-align: top;\n",
              "    }\n",
              "\n",
              "    .dataframe thead th {\n",
              "        text-align: right;\n",
              "    }\n",
              "</style>\n",
              "<table border=\"1\" class=\"dataframe\">\n",
              "  <thead>\n",
              "    <tr style=\"text-align: right;\">\n",
              "      <th></th>\n",
              "      <th>Id</th>\n",
              "      <th>groupId</th>\n",
              "      <th>matchId</th>\n",
              "      <th>matchType</th>\n",
              "    </tr>\n",
              "  </thead>\n",
              "  <tbody>\n",
              "    <tr>\n",
              "      <th>0</th>\n",
              "      <td>2f262dd9795e60</td>\n",
              "      <td>78437bcd91d40e</td>\n",
              "      <td>d5db3a49eb2955</td>\n",
              "      <td>squad-fpp</td>\n",
              "    </tr>\n",
              "    <tr>\n",
              "      <th>1</th>\n",
              "      <td>a32847cf5bf34b</td>\n",
              "      <td>85b7ce5a12e10b</td>\n",
              "      <td>65223f05c7fdb4</td>\n",
              "      <td>squad-fpp</td>\n",
              "    </tr>\n",
              "    <tr>\n",
              "      <th>2</th>\n",
              "      <td>1b1900a9990396</td>\n",
              "      <td>edf80d6523380a</td>\n",
              "      <td>1cadec4534f30a</td>\n",
              "      <td>squad-fpp</td>\n",
              "    </tr>\n",
              "    <tr>\n",
              "      <th>3</th>\n",
              "      <td>f589dd03b60bf2</td>\n",
              "      <td>804ab5e5585558</td>\n",
              "      <td>c4a5676dc91604</td>\n",
              "      <td>squad</td>\n",
              "    </tr>\n",
              "    <tr>\n",
              "      <th>4</th>\n",
              "      <td>c23c4cc5b78b35</td>\n",
              "      <td>b3e2cd169ed920</td>\n",
              "      <td>cd595700a01bfa</td>\n",
              "      <td>squad-fpp</td>\n",
              "    </tr>\n",
              "    <tr>\n",
              "      <th>...</th>\n",
              "      <td>...</td>\n",
              "      <td>...</td>\n",
              "      <td>...</td>\n",
              "      <td>...</td>\n",
              "    </tr>\n",
              "    <tr>\n",
              "      <th>9995</th>\n",
              "      <td>ef4f474acd8e85</td>\n",
              "      <td>2eca2a8391f75d</td>\n",
              "      <td>492ecdfae90b46</td>\n",
              "      <td>squad-fpp</td>\n",
              "    </tr>\n",
              "    <tr>\n",
              "      <th>9996</th>\n",
              "      <td>cf0bf82fb4d80e</td>\n",
              "      <td>2eaf2765f93adb</td>\n",
              "      <td>14bffd71e96320</td>\n",
              "      <td>duo-fpp</td>\n",
              "    </tr>\n",
              "    <tr>\n",
              "      <th>9997</th>\n",
              "      <td>a0a31a0b1dcbe1</td>\n",
              "      <td>8d50c64ccc5071</td>\n",
              "      <td>147e4bbb62e3bb</td>\n",
              "      <td>duo-fpp</td>\n",
              "    </tr>\n",
              "    <tr>\n",
              "      <th>9998</th>\n",
              "      <td>f6874657399d69</td>\n",
              "      <td>d31843d7e62ccb</td>\n",
              "      <td>662567dcf280f5</td>\n",
              "      <td>duo-fpp</td>\n",
              "    </tr>\n",
              "    <tr>\n",
              "      <th>9999</th>\n",
              "      <td>90359b0b8f8b0d</td>\n",
              "      <td>61d5b1bb8da43f</td>\n",
              "      <td>258bfa48d88014</td>\n",
              "      <td>solo</td>\n",
              "    </tr>\n",
              "  </tbody>\n",
              "</table>\n",
              "<p>10000 rows × 4 columns</p>\n",
              "</div>"
            ],
            "text/plain": [
              "                  Id         groupId         matchId  matchType\n",
              "0     2f262dd9795e60  78437bcd91d40e  d5db3a49eb2955  squad-fpp\n",
              "1     a32847cf5bf34b  85b7ce5a12e10b  65223f05c7fdb4  squad-fpp\n",
              "2     1b1900a9990396  edf80d6523380a  1cadec4534f30a  squad-fpp\n",
              "3     f589dd03b60bf2  804ab5e5585558  c4a5676dc91604      squad\n",
              "4     c23c4cc5b78b35  b3e2cd169ed920  cd595700a01bfa  squad-fpp\n",
              "...              ...             ...             ...        ...\n",
              "9995  ef4f474acd8e85  2eca2a8391f75d  492ecdfae90b46  squad-fpp\n",
              "9996  cf0bf82fb4d80e  2eaf2765f93adb  14bffd71e96320    duo-fpp\n",
              "9997  a0a31a0b1dcbe1  8d50c64ccc5071  147e4bbb62e3bb    duo-fpp\n",
              "9998  f6874657399d69  d31843d7e62ccb  662567dcf280f5    duo-fpp\n",
              "9999  90359b0b8f8b0d  61d5b1bb8da43f  258bfa48d88014       solo\n",
              "\n",
              "[10000 rows x 4 columns]"
            ]
          },
          "metadata": {
            "tags": []
          },
          "execution_count": 13
        }
      ]
    },
    {
      "cell_type": "markdown",
      "metadata": {
        "id": "-GMe5El75B-p"
      },
      "source": [
        "**17. Plot a boxplot of ‘matchType’ vs ‘winPlacePerc’. Write your inferences.**"
      ]
    },
    {
      "cell_type": "code",
      "metadata": {
        "id": "fZE_jOeokQYw",
        "outputId": "2dba6f95-dd25-4cb4-d041-7688c2d6449d",
        "colab": {
          "base_uri": "https://localhost:8080/",
          "height": 410
        }
      },
      "source": [
        "sns.boxplot(df.matchType,df.winPlacePerc);\n",
        "plt.xticks(rotation=70);"
      ],
      "execution_count": 14,
      "outputs": [
        {
          "output_type": "stream",
          "text": [
            "/usr/local/lib/python3.6/dist-packages/seaborn/_decorators.py:43: FutureWarning: Pass the following variables as keyword args: x, y. From version 0.12, the only valid positional argument will be `data`, and passing other arguments without an explicit keyword will result in an error or misinterpretation.\n",
            "  FutureWarning\n"
          ],
          "name": "stderr"
        },
        {
          "output_type": "display_data",
          "data": {
            "image/png": "[encoded data removed]",
            "text/plain": [
              "<Figure size 432x288 with 1 Axes>"
            ]
          },
          "metadata": {
            "tags": [],
            "needs_background": "light"
          }
        }
      ]
    },
    {
      "cell_type": "markdown",
      "metadata": {
        "id": "wBUPDPB25PCB"
      },
      "source": [
        "**18. Plot a boxplot of ‘matchType’ vs ‘matchDuration’. Write your inferences.**"
      ]
    },
    {
      "cell_type": "code",
      "metadata": {
        "id": "ea6zWt9UkeBx",
        "outputId": "5a80aabb-90c5-41c9-d290-00871321e53c",
        "colab": {
          "base_uri": "https://localhost:8080/",
          "height": 410
        }
      },
      "source": [
        "sns.boxplot(df.matchType,df.matchDuration);\n",
        "plt.xticks(rotation=70);"
      ],
      "execution_count": 15,
      "outputs": [
        {
          "output_type": "stream",
          "text": [
            "/usr/local/lib/python3.6/dist-packages/seaborn/_decorators.py:43: FutureWarning: Pass the following variables as keyword args: x, y. From version 0.12, the only valid positional argument will be `data`, and passing other arguments without an explicit keyword will result in an error or misinterpretation.\n",
            "  FutureWarning\n"
          ],
          "name": "stderr"
        },
        {
          "output_type": "display_data",
          "data": {
            "image/png": "[encoded data removed]",
            "text/plain": [
              "<Figure size 432x288 with 1 Axes>"
            ]
          },
          "metadata": {
            "tags": [],
            "needs_background": "light"
          }
        }
      ]
    },
    {
      "cell_type": "markdown",
      "metadata": {
        "id": "YSU3_1Xr5WaD"
      },
      "source": [
        "**19. Change the orientation of the above plot to horizontal**"
      ]
    },
    {
      "cell_type": "code",
      "metadata": {
        "id": "C_eayZN3kjsa",
        "outputId": "1caeff24-5569-41b3-affd-9750b4d67a22",
        "colab": {
          "base_uri": "https://localhost:8080/",
          "height": 350
        }
      },
      "source": [
        "sns.boxplot(df.matchDuration,df.matchType);\n",
        "plt.xticks(rotation=70);"
      ],
      "execution_count": 16,
      "outputs": [
        {
          "output_type": "stream",
          "text": [
            "/usr/local/lib/python3.6/dist-packages/seaborn/_decorators.py:43: FutureWarning: Pass the following variables as keyword args: x, y. From version 0.12, the only valid positional argument will be `data`, and passing other arguments without an explicit keyword will result in an error or misinterpretation.\n",
            "  FutureWarning\n"
          ],
          "name": "stderr"
        },
        {
          "output_type": "display_data",
          "data": {
            "image/png": "[encoded data removed]",
            "text/plain": [
              "<Figure size 432x288 with 1 Axes>"
            ]
          },
          "metadata": {
            "tags": [],
            "needs_background": "light"
          }
        }
      ]
    },
    {
      "cell_type": "markdown",
      "metadata": {
        "id": "7PGT-YlX5iTn"
      },
      "source": [
        "**20. Add a new column called ‘KILL’ which contains the sum of following columns viz. headshotKills,\n",
        "teamKills, roadKills.**"
      ]
    },
    {
      "cell_type": "code",
      "metadata": {
        "id": "MoVETOtZkttL",
        "outputId": "51d645ad-293f-4f3d-f56b-665b0c55691c",
        "colab": {
          "base_uri": "https://localhost:8080/"
        }
      },
      "source": [
        "df['KILL']=(df.headshotKills+df.roadKills+df.teamKills)\n",
        "kd=pd.DataFrame(df[['headshotKills','roadKills','teamKills','KILL']])\n",
        "print(kd.head())"
      ],
      "execution_count": 17,
      "outputs": [
        {
          "output_type": "stream",
          "text": [
            "   headshotKills  roadKills  teamKills  KILL\n",
            "0              0          0          0     0\n",
            "1              1          0          0     1\n",
            "2              1          0          0     1\n",
            "3              0          0          0     0\n",
            "4              0          0          0     0\n"
          ],
          "name": "stdout"
        }
      ]
    },
    {
      "cell_type": "markdown",
      "metadata": {
        "id": "GRDlN-Z55jZO"
      },
      "source": [
        "**21. Round off column ‘winPlacePerc’ to 2 decimals**"
      ]
    },
    {
      "cell_type": "code",
      "metadata": {
        "id": "ypz4U3Y3k5aC",
        "outputId": "84cc3ad1-8eb7-45b4-b7a8-85d046d99650",
        "colab": {
          "base_uri": "https://localhost:8080/"
        }
      },
      "source": [
        "df['winPlacePerc']=round(df['winPlacePerc'],2)\n",
        "df['winPlacePerc']"
      ],
      "execution_count": 18,
      "outputs": [
        {
          "output_type": "execute_result",
          "data": {
            "text/plain": [
              "0       0.00\n",
              "1       0.22\n",
              "2       0.86\n",
              "3       0.35\n",
              "4       0.07\n",
              "        ... \n",
              "9995    0.83\n",
              "9996    0.72\n",
              "9997    0.21\n",
              "9998    0.24\n",
              "9999    0.19\n",
              "Name: winPlacePerc, Length: 10000, dtype: float64"
            ]
          },
          "metadata": {
            "tags": []
          },
          "execution_count": 18
        }
      ]
    },
    {
      "cell_type": "markdown",
      "metadata": {
        "id": "LswsbQ-a5jnI"
      },
      "source": [
        "**22. Take a sample of size 50 from the column damageDealt for 100 times and calculate its mean. Plot\n",
        "it on a histogram and comment on its distribution**"
      ]
    },
    {
      "cell_type": "code",
      "metadata": {
        "id": "hpQNIkI1lDuF",
        "outputId": "ace85980-473c-40d3-d8a4-e75e5291d4fb",
        "colab": {
          "base_uri": "https://localhost:8080/",
          "height": 318
        }
      },
      "source": [
        "import numpy as np\n",
        "x = []\n",
        "for i in range(100):\n",
        "    x.append(df['damageDealt'].sample(50).mean())\n",
        "means = np.array(x)\n",
        "sns.distplot(means);"
      ],
      "execution_count": 21,
      "outputs": [
        {
          "output_type": "stream",
          "text": [
            "/usr/local/lib/python3.6/dist-packages/seaborn/distributions.py:2551: FutureWarning: `distplot` is a deprecated function and will be removed in a future version. Please adapt your code to use either `displot` (a figure-level function with similar flexibility) or `histplot` (an axes-level function for histograms).\n",
            "  warnings.warn(msg, FutureWarning)\n"
          ],
          "name": "stderr"
        },
        {
          "output_type": "display_data",
          "data": {
            "image/png": "[encoded data removed]",
            "text/plain": [
              "<Figure size 432x288 with 1 Axes>"
            ]
          },
          "metadata": {
            "tags": [],
            "needs_background": "light"
          }
        }
      ]
    }
  ]
}